{
 "cells": [
  {
   "cell_type": "code",
   "execution_count": 36,
   "metadata": {
    "collapsed": true
   },
   "outputs": [],
   "source": [
    "# %load ../../standard_import.txt\n",
    "import pandas as pd\n",
    "import numpy as np\n",
    "import matplotlib as mpl\n",
    "import matplotlib.pyplot as plt\n",
    "\n",
    "from scipy.optimize import minimize\n",
    "from sklearn.preprocessing import PolynomialFeatures\n",
    "import sys\n",
    " \n",
    "#%config InlineBackend.figure_formats = {'pdf',}\n",
    "#%matplotlib inline\n",
    "\n",
    "import seaborn as sns\n",
    "\n",
    "plt.close(\"all\") # Clsoe all plots\n"
   ]
  },
  {
   "cell_type": "markdown",
   "metadata": {},
   "source": [
    "### Loading data "
   ]
  },
  {
   "cell_type": "code",
   "execution_count": 37,
   "metadata": {},
   "outputs": [
    {
     "name": "stdout",
     "output_type": "stream",
     "text": [
      "Dimensions:  (100, 3)\n",
      "file: ex2data1.txt\n",
      "number of features (n): 3\n",
      "number of examples (m):100\n",
      "\n",
      "[ 60.18259939  79.03273605  61.10666454  75.02474557  76.0987867\n",
      "  84.43281996  82.30705337  69.36458876  53.97105215  69.07014406\n",
      "  70.66150955  76.97878373  89.67677575  77.92409145  62.27101367\n",
      "  80.19018075  61.37928945  85.40451939  52.04540477  64.17698887\n",
      "  83.90239366  94.44336777  77.19303493  97.77159928  62.0730638\n",
      "  91.5649745   79.94481794  99.27252693  90.54671411  97.64563396\n",
      "  74.24869137  71.79646206  75.39561147  40.45755098  80.27957401\n",
      "  66.74671857  64.03932042  72.34649423  60.45788574  58.84095622\n",
      "  99.8278578   47.26426911  50.4581598   88.91389642  94.83450672\n",
      "  67.31925747  57.23870632  80.366756    68.46852179  75.47770201\n",
      "  78.63542435  94.09433113  90.44855097  74.49269242  89.84580671\n",
      "  83.48916274  42.26170081  99.31500881  55.34001756  74.775893  ]\n"
     ]
    },
    {
     "data": {
      "image/png": "[encoded data removed]",
      "text/plain": [
       "<matplotlib.figure.Figure at 0x111e53198>"
      ]
     },
     "metadata": {},
     "output_type": "display_data"
    }
   ],
   "source": [
    "file_name = 'ex2data1.txt'\n",
    "data = np.loadtxt(file_name, delimiter =',')\n",
    "print('Dimensions: ',data.shape)\n",
    "\n",
    "X = np.c_[np.ones((len(data),1)), data[:,0:2]] # create X array colum of 1's and 2 colums of data\n",
    "y = np.c_[data[:,2]]# create y array colum of output data data\n",
    "\n",
    "m = X.shape[0] # number of training examples\n",
    "n = X.shape[1]# number of features... includeing the addition of the 1's\n",
    "\n",
    "print('file: %s'%(file_name))\n",
    "print('number of features (n): %.0f'%(n))\n",
    "print('number of examples (m):%.0f\\n'%(m))\n",
    "\n",
    "\n",
    "def plotData(data, label_x, label_y, label_pos, label_neg, axes = None):\n",
    "    # Get indexes for class 0 and class 1\n",
    "    neg = data[:,2] == 0 # ind where all the negative values are\n",
    "    pos = data[:,2] == 1 # ind where all the postive values are\n",
    "    \n",
    "    # If no specific axes object has been passed, get the current axes.\n",
    "    %matplotlib inline\n",
    "    plt.figure()\n",
    "    if axes == None:\n",
    "        axes = plt.gca()\n",
    "    #plot\n",
    "    axes.scatter(data[pos][:,0], data[pos][:,1], marker = '+', c = 'k', s=60, linewidth=2, label=label_pos)\n",
    "    axes.scatter(data[neg][:,0], data[neg][:,1], c ='y', s = 60, label = label_neg)\n",
    "    axes.set_xlabel(label_x)\n",
    "    axes.set_ylabel(label_y)\n",
    "    axes.legend(frameon = True, fancybox = True);\n",
    "    plt.grid(True)\n",
    "    \n",
    "    print(data[pos][:,0])\n",
    "\n",
    "plotData(data, 'Exam 1 score', 'Exam 2 score', 'Admitted', 'Not admitted')"
   ]
  },
  {
   "cell_type": "markdown",
   "metadata": {},
   "source": [
    "### Logistic regression"
   ]
  },
  {
   "cell_type": "markdown",
   "metadata": {},
   "source": [
    "Hypothesis:\n",
    "Sigmoid Function $$h_\\theta(x) = g(\\theta^{T}x)$$\n",
    "\n",
    "$$h_\\theta(x) = g(\\theta x) = \\frac{1}{1 + e^{-\\theta^{T}x}}$$\n",
    "\n",
    "Cost Function:\n",
    "$$J(\\theta) = -\\frac{1}{m}\\sum_{i = 1}^m \\Bigr(y^{(i)}log( h_\\theta(x^{(i)})) + (1 - y^{(i)}) log(1 - h_\\theta(x^{(i)}))\\Bigl)$$\n",
    "\n",
    "Vectorised Cost Function:\n",
    "$$ J(\\theta) = -\\frac{1}{m}\\big(log(h)+(1 - y)^T(log(1 - h)\\big)$$\n",
    "where $$h = g(X\\theta)$$\n",
    "\n",
    "Gradient Descent: Repeat until converge\n",
    "$$\\theta_j : = \\theta_j- \\frac{\\alpha}{m}\\frac{\\partial J(\\theta)}{\\partial\\theta_{j}}$$\n",
    "\n",
    "\n",
    "Partial derivative:\n",
    "$$ \\frac{\\partial J(\\theta)}{\\partial\\theta_{j}} = \\frac{1}{m}\\sum_{i=1}^{m} ( h_\\theta (x^{(i)})-y^{(i)})x^{(i)}_{j} $$\n",
    "\n",
    "Vectorized Partial Derivative\n",
    "$$\\frac{\\partial J(\\theta)}{\\partial\\theta_{j}} = \\frac{1}{m} X^T(h-y)$$\n",
    "\n"
   ]
  },
  {
   "cell_type": "code",
   "execution_count": 38,
   "metadata": {},
   "outputs": [
    {
     "name": "stdout",
     "output_type": "stream",
     "text": [
      "values at initial thetas:\n",
      "\ttheta_0: 0.00\n",
      "\ttheta_1: 0.00\n",
      "\ttheta_2:0.00\n",
      "Cost of initial thetas: 0.693\n",
      "Grad Cost: -0.100,  -12.009,  -11.263\n"
     ]
    }
   ],
   "source": [
    "def sigmoid(z):\n",
    "    return(1 / (1 + np.exp(-z)))\n",
    "\n",
    "def costFunction(theta, X, y):\n",
    "    h = sigmoid(X.dot(theta))\n",
    "    \n",
    "    J = -1 * (1/m) * (np.log(h).T.dot(y) + np.log(1 - h).T.dot(1 - y))\n",
    "               \n",
    "    if np.isnan(J[0]):\n",
    "        return(np.inf)\n",
    "    return(J[0])\n",
    "\n",
    "def gradient(theta, X, y):\n",
    "    m = y.size\n",
    "    h = sigmoid(X.dot(theta.reshape(-1,1)))\n",
    "    \n",
    "    dJ =(1/m) * X.T.dot(h - y)\n",
    "\n",
    "    return(dJ.flatten())\n",
    "\n",
    "initial_theta = np.zeros(X.shape[1])\n",
    "cost = costFunction(initial_theta, X, y)\n",
    "dJ = gradient(initial_theta, X, y)\n",
    "\n",
    "print('values at initial thetas:')\n",
    "print('\\ttheta_0: %.2f'%(initial_theta[0]))\n",
    "print('\\ttheta_1: %.2f'%(initial_theta[1]))\n",
    "print('\\ttheta_2:%.2f'%(initial_theta[2]))\n",
    "print('Cost of initial thetas: %.3f'%(cost))\n",
    "print('Grad Cost: %.3f,  %.3f,  %.3f'%(dJ[0], dJ[1], dJ[2]))\n",
    "\n",
    "\n"
   ]
  },
  {
   "cell_type": "markdown",
   "metadata": {},
   "source": [
    "### Optimisation of cost fucntion"
   ]
  },
  {
   "cell_type": "code",
   "execution_count": 39,
   "metadata": {},
   "outputs": [
    {
     "name": "stderr",
     "output_type": "stream",
     "text": [
      "/anaconda3/lib/python3.6/site-packages/ipykernel_launcher.py:7: RuntimeWarning: divide by zero encountered in log\n",
      "  import sys\n",
      "/anaconda3/lib/python3.6/site-packages/ipykernel_launcher.py:7: RuntimeWarning: divide by zero encountered in log\n",
      "  import sys\n"
     ]
    },
    {
     "data": {
      "text/plain": [
       "      fun: 0.20349770158950983\n",
       " hess_inv: array([[  2.85339493e+03,  -2.32908823e+01,  -2.27416470e+01],\n",
       "       [ -2.32908823e+01,   2.04489131e-01,   1.72969525e-01],\n",
       "       [ -2.27416470e+01,   1.72969525e-01,   1.96170322e-01]])\n",
       "      jac: array([ -2.68557629e-09,   4.36433482e-07,  -1.39671758e-06])\n",
       "  message: 'Optimization terminated successfully.'\n",
       "     nfev: 34\n",
       "      nit: 25\n",
       "     njev: 30\n",
       "   status: 0\n",
       "  success: True\n",
       "        x: array([-25.16131634,   0.2062316 ,   0.20147143])"
      ]
     },
     "execution_count": 39,
     "metadata": {},
     "output_type": "execute_result"
    }
   ],
   "source": [
    "res_opt = minimize(costFunction, initial_theta, args = (X,y), method = None, jac = gradient, options = {'maxiter':400})\n",
    "theta = res_opt.x # set the optimised theta values\n",
    "res_opt"
   ]
  },
  {
   "cell_type": "markdown",
   "metadata": {},
   "source": [
    "### Predict using sklearn"
   ]
  },
  {
   "cell_type": "code",
   "execution_count": 40,
   "metadata": {},
   "outputs": [
    {
     "name": "stdout",
     "output_type": "stream",
     "text": [
      "-----------------------------------------------------------\n",
      "RESULTS USING THE MINIMISE FUNCTION\n",
      "\n",
      "Optimisation fucntion:minimise()\n",
      "\n",
      "Values of thetea:\n",
      "\ttheta_0: -25.16\n",
      "\ttheta_1: 0.21\n",
      "\ttheta_2:0.20\n",
      "\n",
      "Single Student  results:\n",
      "Student Grades:\n",
      "\tFirts Exam: 45.00\n",
      "\tSecond Exam: 85.00\n",
      "Predicted Grade: PASS\n",
      "Probability of Admission: 77.63%\n",
      "\n",
      "\n",
      "Full Class  results:\n",
      "number of correct prediction: 89.00\n",
      "Train accuracy 89.00%\n",
      "-----------------------------------------------------------\n"
     ]
    }
   ],
   "source": [
    "\n",
    "\n",
    "from sklearn.metrics import precision_recall_fscore_support as score\n",
    "from sklearn.model_selection import train_test_split\n",
    "\n",
    "#predicts the pass or fail of students from exam1 & 2 (provided in X)\n",
    "def predict(theta, X, threshold = 0.5):\n",
    "    p = sigmoid(X.dot(theta.T)) >= threshold # rue if sigmoid of exams results using optimised theta > 0.5\n",
    "    return(p.astype('int'))# 1 if true (i.e. pass) 0 = false (i.e. fail)\n",
    "\n",
    "# Student with Exam 1 score 45 and Exam 2 score 85\n",
    "# Predict using the optimized Theta values from above\n",
    "Student_A = np.array([1,45, 85]) \n",
    "Student_A_prob = sigmoid(Student_A.dot(theta.T))\n",
    "grade_Stu_A = predict(theta, Student_A)\n",
    "\n",
    "Class_Admissions = predict(theta, X)\n",
    "correct_pred = sum(Class_Admissions == y.ravel())\n",
    "predict_rate = correct_pred/Class_Admissions.size\n",
    "\n",
    "print('-----------------------------------------------------------')\n",
    "print('RESULTS USING THE MINIMISE FUNCTION\\n')\n",
    "print('Optimisation fucntion:minimise()')\n",
    "print('\\nValues of thetea:')\n",
    "print('\\ttheta_0: %.2f'%(theta[0]))\n",
    "print('\\ttheta_1: %.2f'%(theta[1]))\n",
    "print('\\ttheta_2:%.2f'%(theta[2]))\n",
    "print('\\nSingle Student  results:')\n",
    "print('Student Grades:')\n",
    "print('\\tFirts Exam: %.2f'%(Student_A[1]))\n",
    "print('\\tSecond Exam: %.2f'%(Student_A[2]))\n",
    "print('Predicted Grade: %s'%('PASS' if grade_Stu_A == 1 else 'FAIL')) #prints pass if pass is predited else prints fail\n",
    "print('Probability of Admission: %.2f%%'%(Student_A_prob * 100))\n",
    "print('\\n')\n",
    "\n",
    "print('Full Class  results:')\n",
    "print('number of correct prediction: %.2f'%(correct_pred))\n",
    "print('Train accuracy %.2f%%'%(100 * predict_rate))\n",
    "print('-----------------------------------------------------------')\n"
   ]
  },
  {
   "cell_type": "markdown",
   "metadata": {},
   "source": [
    "### Boundary Decision"
   ]
  },
  {
   "cell_type": "code",
   "execution_count": 41,
   "metadata": {},
   "outputs": [
    {
     "name": "stdout",
     "output_type": "stream",
     "text": [
      "[ 60.18259939  79.03273605  61.10666454  75.02474557  76.0987867\n",
      "  84.43281996  82.30705337  69.36458876  53.97105215  69.07014406\n",
      "  70.66150955  76.97878373  89.67677575  77.92409145  62.27101367\n",
      "  80.19018075  61.37928945  85.40451939  52.04540477  64.17698887\n",
      "  83.90239366  94.44336777  77.19303493  97.77159928  62.0730638\n",
      "  91.5649745   79.94481794  99.27252693  90.54671411  97.64563396\n",
      "  74.24869137  71.79646206  75.39561147  40.45755098  80.27957401\n",
      "  66.74671857  64.03932042  72.34649423  60.45788574  58.84095622\n",
      "  99.8278578   47.26426911  50.4581598   88.91389642  94.83450672\n",
      "  67.31925747  57.23870632  80.366756    68.46852179  75.47770201\n",
      "  78.63542435  94.09433113  90.44855097  74.49269242  89.84580671\n",
      "  83.48916274  42.26170081  99.31500881  55.34001756  74.775893  ]\n"
     ]
    },
    {
     "data": {
      "image/png": "[encoded data removed]",
      "text/plain": [
       "<matplotlib.figure.Figure at 0x111b23ba8>"
      ]
     },
     "metadata": {},
     "output_type": "display_data"
    }
   ],
   "source": [
    "#find the max and min of exam results to create limits for trend line\n",
    "x1_min, x1_max = X[:,1].min(), X[:,1].max(),\n",
    "x2_min, x2_max = X[:,2].min(), X[:,2].max(),\n",
    "\n",
    "xx1, xx2 = np.meshgrid(np.linspace(x1_min, x1_max), np.linspace(x2_min, x2_max)) \n",
    "\n",
    "#create a of X_data in one line... rshape it later.. this is faster\n",
    "x0_line = np.ones((xx1.ravel().shape[0],1)) \n",
    "x1_line = xx1.ravel()\n",
    "x2_line = xx2.ravel()\n",
    "\n",
    "h_prep = np.c_[x0_line, x1_line, x2_line].dot(theta)\n",
    "h = sigmoid(h_prep) # pass it thought the sigmoid fucntion\n",
    "h = h.reshape(xx1.shape) # rehape it to the size of teh grid\n",
    "\n",
    "plotData(data, 'Exam 1 score', 'Exam 2 score', 'Admitted', 'Not admitted')\n",
    "plt.contour(xx1, xx2, h, [0.5], linewidths=1, colors='b'); \n"
   ]
  },
  {
   "cell_type": "markdown",
   "metadata": {},
   "source": [
    "### Regularised Logistic regression"
   ]
  },
  {
   "cell_type": "markdown",
   "metadata": {},
   "source": [
    "regularisationc can reduce the weight of the parameters in anywa function by increaseing the respective cost.\n",
    "we edit the hypothesis to inflate the cost and thus reduce the fitting parameters\n",
    "\n",
    "Note: \\theta_0 is not to be regularised adn is calcualted seperately when using the vertorised method\n",
    "\n",
    "Regularized Cost Function\n",
    "for $\\theta = 1,2,3,...n$\n",
    "$$ J(\\theta) = -\\frac{1}{m}\\bigg[\\sum_{i=1}^{m}\\big[y^{(i)} log( h_\\theta(x^{(i)}))+(1-y^{(i)})log(1-h_\\theta(x^{(i)}))\\big] + \\frac{\\lambda}{2m}\\sum_{j = 1}^{n}\\theta_{j}^{2}\\bigg]$$\n",
    "\n",
    "\n",
    "Vectorized Cost Function\n",
    "$$ J(\\theta) = -\\frac{1}{m}\\big((log(h)^Ty+(log(1-h)^T(1-y)\\big) + \\frac{\\lambda}{2m}\\sum_{j = 1}^{n}\\theta_{j}^{2}$$\n",
    "\n",
    "Partial derivatives:<br>\n",
    "for j = 0 \n",
    "$$ \\frac{\\partial J(\\theta)}{\\partial\\theta_{0}} = \\frac{1}{m}\\sum_{i=1}^{m} ( h_\\theta (x^{(i)})-y^{(i)})x^{(i)}_{0} $$\n",
    "\n",
    "for j = 1,2,3...m \n",
    "$$ \\frac{\\partial J(\\theta)}{\\partial\\theta_{j}} = \\frac{1}{m}\\sum_{i=1}^{m} ( h_\\theta (x^{(i)})-y^{(i)})x^{(i)}_{j} +\\frac{\\lambda}{m}\\theta_{j}^{2}$$\n",
    "\n",
    "Vectorized Partial Derivative <br>\n",
    "for j = 0\n",
    "$$\\frac{\\partial J(\\theta)}{\\partial\\theta_{0}} = \\frac{1}{m} X^T(h-y)$$\n",
    "for j = 1,2,3... n\n",
    "$$\\frac{\\partial J(\\theta)}{\\partial\\theta_{j}} = \\frac{1}{m} X^T(h-y) + \\frac{\\lambda}{m}\\theta_{j}^{2}$$\n",
    "\n",
    "Gradient Descent: Repeat until converge<br>\n",
    "for j = 0\n",
    "$$\\theta_0 : = \\theta_0- \\alpha\\frac{1}{m}\\frac{\\partial J(\\theta)}{\\partial\\theta_{0}}$$\n",
    "for j = 1,2,3...n\n",
    "$$\\theta_j : = \\theta_j- \\alpha\\Big[\\Big(\\frac{1}{m}\\frac{\\partial J(\\theta)}{\\partial\\theta_{j}}\\Big) + \\frac{\\lambda}{m}\\theta_{j}\\Big] $$\n",
    "                                "
   ]
  },
  {
   "cell_type": "markdown",
   "metadata": {},
   "source": [
    "#### Import data"
   ]
  },
  {
   "cell_type": "code",
   "execution_count": 42,
   "metadata": {},
   "outputs": [
    {
     "name": "stdout",
     "output_type": "stream",
     "text": [
      "[ 0.051267  -0.092742  -0.21371   -0.375     -0.51325   -0.52477   -0.39804\n",
      " -0.30588    0.016705   0.13191    0.38537    0.52938    0.63882    0.73675\n",
      "  0.54666    0.322      0.16647   -0.046659  -0.17339   -0.47869   -0.60541\n",
      " -0.62846   -0.59389   -0.42108   -0.11578    0.20104    0.46601    0.67339\n",
      " -0.13882   -0.29435   -0.26555   -0.16187   -0.17339   -0.28283   -0.36348\n",
      " -0.30012   -0.23675   -0.06394    0.062788   0.22984    0.2932     0.48329\n",
      "  0.64459    0.46025    0.6273     0.57546    0.72523    0.22408    0.44297\n",
      "  0.322      0.13767   -0.0063364 -0.092742  -0.20795   -0.20795   -0.43836\n",
      " -0.21947   -0.13882  ]\n"
     ]
    },
    {
     "data": {
      "image/png": "[encoded data removed]",
      "text/plain": [
       "<matplotlib.figure.Figure at 0x111e8c6a0>"
      ]
     },
     "metadata": {},
     "output_type": "display_data"
    }
   ],
   "source": [
    "data2 = np.loadtxt('ex2data2.txt', delimiter =',')\n",
    "\n",
    "y = np.c_[data2[:,2]]\n",
    "X = data2[:,0:2]\n",
    "\n",
    "plotData(data2, 'Microchip Test 1', 'Microchip Test 2', 'y = 1', 'y = 0')\n"
   ]
  },
  {
   "cell_type": "markdown",
   "metadata": {},
   "source": [
    "### Polynomials"
   ]
  },
  {
   "cell_type": "code",
   "execution_count": 43,
   "metadata": {},
   "outputs": [
    {
     "name": "stdout",
     "output_type": "stream",
     "text": [
      "[ 0.051267  -0.092742  -0.21371   -0.375     -0.51325   -0.52477   -0.39804\n",
      " -0.30588    0.016705   0.13191    0.38537    0.52938    0.63882    0.73675\n",
      "  0.54666    0.322      0.16647   -0.046659  -0.17339   -0.47869   -0.60541\n",
      " -0.62846   -0.59389   -0.42108   -0.11578    0.20104    0.46601    0.67339\n",
      " -0.13882   -0.29435   -0.26555   -0.16187   -0.17339   -0.28283   -0.36348\n",
      " -0.30012   -0.23675   -0.06394    0.062788   0.22984    0.2932     0.48329\n",
      "  0.64459    0.46025    0.6273     0.57546    0.72523    0.22408    0.44297\n",
      "  0.322      0.13767   -0.0063364 -0.092742  -0.20795   -0.20795   -0.43836\n",
      " -0.21947   -0.13882  ]\n",
      "[ 0.051267  -0.092742  -0.21371   -0.375     -0.51325   -0.52477   -0.39804\n",
      " -0.30588    0.016705   0.13191    0.38537    0.52938    0.63882    0.73675\n",
      "  0.54666    0.322      0.16647   -0.046659  -0.17339   -0.47869   -0.60541\n",
      " -0.62846   -0.59389   -0.42108   -0.11578    0.20104    0.46601    0.67339\n",
      " -0.13882   -0.29435   -0.26555   -0.16187   -0.17339   -0.28283   -0.36348\n",
      " -0.30012   -0.23675   -0.06394    0.062788   0.22984    0.2932     0.48329\n",
      "  0.64459    0.46025    0.6273     0.57546    0.72523    0.22408    0.44297\n",
      "  0.322      0.13767   -0.0063364 -0.092742  -0.20795   -0.20795   -0.43836\n",
      " -0.21947   -0.13882  ]\n"
     ]
    },
    {
     "name": "stderr",
     "output_type": "stream",
     "text": [
      "/anaconda3/lib/python3.6/site-packages/ipykernel_launcher.py:2: RuntimeWarning: overflow encountered in exp\n",
      "  \n"
     ]
    },
    {
     "name": "stdout",
     "output_type": "stream",
     "text": [
      "[ 0.051267  -0.092742  -0.21371   -0.375     -0.51325   -0.52477   -0.39804\n",
      " -0.30588    0.016705   0.13191    0.38537    0.52938    0.63882    0.73675\n",
      "  0.54666    0.322      0.16647   -0.046659  -0.17339   -0.47869   -0.60541\n",
      " -0.62846   -0.59389   -0.42108   -0.11578    0.20104    0.46601    0.67339\n",
      " -0.13882   -0.29435   -0.26555   -0.16187   -0.17339   -0.28283   -0.36348\n",
      " -0.30012   -0.23675   -0.06394    0.062788   0.22984    0.2932     0.48329\n",
      "  0.64459    0.46025    0.6273     0.57546    0.72523    0.22408    0.44297\n",
      "  0.322      0.13767   -0.0063364 -0.092742  -0.20795   -0.20795   -0.43836\n",
      " -0.21947   -0.13882  ]\n"
     ]
    },
    {
     "data": {
      "image/png": "[encoded data removed]",
      "text/plain": [
       "<matplotlib.figure.Figure at 0x111d8ae48>"
      ]
     },
     "metadata": {},
     "output_type": "display_data"
    }
   ],
   "source": [
    "# Note that this function inserts a column with 'ones' in the design matrix for the intercept.\n",
    "poly = PolynomialFeatures(6)\n",
    "XX = poly.fit_transform(data2[:,0:2])\n",
    "XX.shape\n",
    "\n",
    "\n",
    "# Determine Cost Function\n",
    "def costFunctionReg(theta, reg, *args):\n",
    "    m = y.size\n",
    "    h = sigmoid(XX.dot(theta))\n",
    "    \n",
    "    J = -1*(1/m) * (np.log(h).T.dot(y) + np.log(1 - h).T.dot(1 - y)) + (reg/(2 * m)) * np.sum(np.square(theta[1:]))\n",
    "    \n",
    "    if np.isnan(J[0]):\n",
    "        return(np.inf)\n",
    "    return(J[0])\n",
    "\n",
    "# Gradient of Regression\n",
    "def gradientReg(theta, reg, *args):\n",
    "    m = y.size\n",
    "    h = sigmoid(XX.dot(theta.reshape(-1,1)))\n",
    "      \n",
    "    grad = (1/m) * XX.T.dot(h - y) + (reg / m) * np.r_[[[0]],theta[1:].reshape(-1, 1)]\n",
    "        \n",
    "    return(grad.flatten())\n",
    "\n",
    "initial_theta = np.zeros(XX.shape[1])\n",
    "costFunctionReg(initial_theta, 1, XX, y)\n",
    "\n",
    "fig, axes = plt.subplots(1,3, sharey = True, figsize=(17,5))\n",
    "\n",
    "# Decision boundaries\n",
    "# Lambda = 0 : No regularization --> too flexible, overfitting the training data\n",
    "# Lambda = 1 : Looks about right\n",
    "# Lambda = 100 : Too much regularization --> high bias\n",
    "\n",
    "for i, C in enumerate([0, 1, 100]):\n",
    "    # Optimize costFunctionReg\n",
    "\n",
    "    res_opt2 = minimize(costFunctionReg, initial_theta, args = (C, XX, y), method = None, jac = gradientReg, options = {'maxiter':3000})\n",
    "    \n",
    "    # Accuracy\n",
    "    accuracy = 100 * sum(predict(res_opt2.x, XX) == y.ravel())/y.size    \n",
    "\n",
    "    # Scatter plot of X,y\n",
    "    plotData(data2, 'Microchip Test 1', 'Microchip Test 2', 'y = 1', 'y = 0', axes.flatten()[i])\n",
    "    \n",
    "    # Plot decision boundary\n",
    "    x1_min, x1_max = X[:,0].min(), X[:,0].max(),\n",
    "    x2_min, x2_max = X[:,1].min(), X[:,1].max(),\n",
    "    xx1, xx2 = np.meshgrid(np.linspace(x1_min, x1_max), np.linspace(x2_min, x2_max))\n",
    "    h = sigmoid(poly.fit_transform(np.c_[xx1.ravel(), xx2.ravel()]).dot(res_opt2.x))\n",
    "    h = h.reshape(xx1.shape)\n",
    "    axes.flatten()[i].contour(xx1, xx2, h, [0.5], linewidths=1, colors='g');       \n",
    "    axes.flatten()[i].set_title('Train accuracy {}% with Lambda = {}'.format(np.round(accuracy, decimals = 2), C))"
   ]
  },
  {
   "cell_type": "code",
   "execution_count": null,
   "metadata": {
    "collapsed": true
   },
   "outputs": [],
   "source": []
  },
  {
   "cell_type": "code",
   "execution_count": null,
   "metadata": {
    "collapsed": true
   },
   "outputs": [],
   "source": []
  },
  {
   "cell_type": "code",
   "execution_count": null,
   "metadata": {
    "collapsed": true
   },
   "outputs": [],
   "source": []
  },
  {
   "cell_type": "code",
   "execution_count": null,
   "metadata": {
    "collapsed": true
   },
   "outputs": [],
   "source": []
  },
  {
   "cell_type": "code",
   "execution_count": null,
   "metadata": {
    "collapsed": true
   },
   "outputs": [],
   "source": []
  },
  {
   "cell_type": "code",
   "execution_count": null,
   "metadata": {
    "collapsed": true
   },
   "outputs": [],
   "source": []
  },
  {
   "cell_type": "code",
   "execution_count": null,
   "metadata": {
    "collapsed": true
   },
   "outputs": [],
   "source": []
  }
 ],
 "metadata": {
  "kernelspec": {
   "display_name": "Python 3",
   "language": "python",
   "name": "python3"
  },
  "language_info": {
   "codemirror_mode": {
    "name": "ipython",
    "version": 3
   },
   "file_extension": ".py",
   "mimetype": "text/x-python",
   "name": "python",
   "nbconvert_exporter": "python",
   "pygments_lexer": "ipython3",
   "version": "3.6.2"
  }
 },
 "nbformat": 4,
 "nbformat_minor": 2
}
