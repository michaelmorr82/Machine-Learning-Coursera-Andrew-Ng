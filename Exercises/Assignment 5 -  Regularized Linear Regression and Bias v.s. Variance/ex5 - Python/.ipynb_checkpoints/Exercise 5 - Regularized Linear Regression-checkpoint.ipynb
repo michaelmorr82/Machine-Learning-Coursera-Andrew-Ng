{
 "cells": [
  {
   "cell_type": "code",
   "execution_count": 22,
   "metadata": {
    "collapsed": true
   },
   "outputs": [],
   "source": [
    "# %load ../../../standard_import.txt\n",
    "import pandas as pd\n",
    "import numpy as np\n",
    "import matplotlib as mpl\n",
    "import matplotlib.pyplot as plt\n",
    "\n",
    "from scipy.io import loadmat\n",
    "from scipy.optimize import minimize\n",
    "\n",
    "from sklearn.linear_model import LinearRegression, Ridge\n",
    "from sklearn.preprocessing import PolynomialFeatures\n",
    " \n",
    "#%config InlineBackend.figure_formats = {'pdf',}\n",
    "%matplotlib inline\n",
    "\n",
    "import seaborn as sns\n",
    "sns.set_context('notebook')\n",
    "sns.set_style('white')\n",
    "\n"
   ]
  },
  {
   "cell_type": "markdown",
   "metadata": {},
   "source": [
    "### Load Data"
   ]
  },
  {
   "cell_type": "code",
   "execution_count": 42,
   "metadata": {
    "scrolled": true
   },
   "outputs": [
    {
     "name": "stdout",
     "output_type": "stream",
     "text": [
      "----------------------------------------------------\n",
      "DATA\n",
      "Data X: (12, 1)\n",
      "y: (12, 1)\n",
      "Training Data X: (12, 2)\n",
      "Traingin Data y: (12, 1)\n",
      "Cross validation Data X: (21, 2)\n",
      "Cross validation Data y: (21, 1)\n"
     ]
    },
    {
     "data": {
      "text/plain": [
       "<matplotlib.legend.Legend at 0x1154a8eb8>"
      ]
     },
     "execution_count": 42,
     "metadata": {},
     "output_type": "execute_result"
    },
    {
     "data": {
      "image/png": "[encoded data removed]",
      "text/plain": [
       "<matplotlib.figure.Figure at 0x114feed68>"
      ]
     },
     "metadata": {},
     "output_type": "display_data"
    }
   ],
   "source": [
    "data = loadmat('ex5data1.mat')\n",
    "\n",
    "X = data['X']\n",
    "y = data['y']\n",
    "y_train = data['y']\n",
    "X_train = np.c_[np.ones_like(data['X']), data['X']]\n",
    "\n",
    "y_val = data['yval']\n",
    "X_val = np.c_[np.ones_like(data['Xval']), data['Xval']]\n",
    "print('----------------------------------------------------')\n",
    "print('DATA')\n",
    "print('Data X:', X.shape)\n",
    "print('y:', y.shape)\n",
    "print('Training Data X:', X_train.shape)\n",
    "print('Traingin Data y:', y_train.shape)\n",
    "print('Cross validation Data X:', X_val.shape)\n",
    "print('Cross validation Data y:', y_val.shape)\n",
    "\n",
    "plt.figure()\n",
    "plt.scatter(X_train[:,1], y_train, s = 50, c = 'r', marker = 'x', linewidths = 1)\n",
    "plt.scatter(X_val[:,1], y_val, s = 50, c = 'b', marker = 'o', linewidths = 1)\n",
    "plt.xlabel('Change in water level (x)')\n",
    "plt.ylabel('Water flowing out of the dam (y)')\n",
    "plt.legend(('Trainging Data','Validation Data'))"
   ]
  },
  {
   "cell_type": "markdown",
   "metadata": {},
   "source": [
    "### Regularised Cost Function"
   ]
  },
  {
   "cell_type": "markdown",
   "metadata": {},
   "source": [
    "regularised linear regression\n",
    "Note: \\theta_0 is not to be regularised adn is calcualted seperately when using the vertorised method\n",
    "\n",
    "Regularized Cost Function\n",
    "$$ J(\\theta) = -\\frac{1}{m}\\sum_{i=1}^{m}\\big[y^{(i)} log( h_\\theta(x^{(i)}))+(1-y^{(i)})log(1-h_\\theta(x^{(i)}))\\big] + \\frac{\\lambda}{2m}\\sum_{j = 1}^{n}\\theta_{j}^{2}$$\n",
    "\n",
    "\n",
    "Vectorized Cost Function\n",
    "$$ J(\\theta) = -\\frac{1}{m}\\big((log(h)^Ty+(log(1-h)^T(1-y)\\big) + \\frac{\\lambda}{2m}\\sum_{j = 1}^{n}\\theta_{j}^{2}$$\n",
    "\n",
    "Partial derivative:\n",
    "$$ \\frac{\\delta J(\\theta)}{\\delta\\theta_{j}} = \\frac{1}{m}\\sum_{i=1}^{m} ( h_\\theta (x^{(i)})-y^{(i)})x^{(i)}_{j} \\frac{\\lambda}{m}\\theta_{j}^{2}$$\n",
    "\n",
    "Vectorized Partial Derivative\n",
    "$$\\frac{\\delta J(\\theta)}{\\delta\\theta_{j}} = \\frac{1}{m} X^T(h-y) + \\frac{\\lambda}{m}\\theta_{j}^{2}$$\n",
    "\n",
    "Gradient Descent: Repeat until converge\n",
    "$$\\theta_0 : = \\theta_0- \\alpha\\frac{1}{m}\\frac{\\delta J(\\theta)}{\\delta\\theta_{0}}$$\n",
    "\n",
    "$$\\theta_j : = \\theta_j- \\alpha\\Big[\\Big(\\frac{1}{m}\\frac{\\delta J(\\theta)}{\\delta\\theta_{j}}\\Big) + \\frac{\\lambda}{m}\\theta_{j}\\Big] j\\epsilon{1,2,3...n}$$\n",
    "                                "
   ]
  },
  {
   "cell_type": "code",
   "execution_count": 32,
   "metadata": {},
   "outputs": [
    {
     "name": "stdout",
     "output_type": "stream",
     "text": [
      "Results\n",
      "Cost at theta = [1,1]: 303.95\n",
      "Gradient at theta = [1,1]: -15.30 , 598.17\n"
     ]
    }
   ],
   "source": [
    "\n",
    "def linearRegCostFunction(theta, X, y, Lambda):\n",
    "    m = y.size\n",
    "    \n",
    "    h = X.dot(theta)\n",
    "    #cost funtion\n",
    "    J = (1/(2 * m)) * np.sum(np.square(h - y)) + (Lambda/(2 * m)) * np.sum(np.square(theta[1:]))\n",
    "   \n",
    "    return(J)\n",
    "\n",
    "\n",
    "def lrgradientReg(theta, X, y, Lambda):\n",
    "    m = y.size\n",
    "    \n",
    "    h = X.dot(theta.reshape(-1,1))\n",
    "        \n",
    "    grad = (1/m) * (X.T.dot(h - y)) + (Lambda / m) * np.r_[[[0]],theta[1:].reshape(-1,1)]\n",
    "        \n",
    "    return(grad.flatten())\n",
    "\n",
    "initial_theta = np.ones((X_train.shape[1],1))\n",
    "cost = linearRegCostFunction(initial_theta, X_train, y_train, 0)\n",
    "gradient = lrgradientReg(initial_theta, X_train, y_train, 0)\n",
    "\n",
    "print('Results')\n",
    "print('Cost at theta = [1,1]: %.2f'%(cost))\n",
    "print('Gradient at theta = [1,1]: %.2f , %.2f'%(gradient[0],gradient[1]))\n",
    "\n",
    "def trainLinearReg(X, y, Lambda):\n",
    "    #initial_theta = np.zeros((X.shape[1],1))\n",
    "    initial_theta = np.array([[15],[15]])\n",
    "        \n",
    "    res = minimize(linearRegCostFunction, initial_theta, args = (X_train,y_train,Lambda), method = None, jac = lrgradientReg,\n",
    "                   options = {'maxiter':5000})\n",
    "    \n",
    "    return(res)\n"
   ]
  },
  {
   "cell_type": "markdown",
   "metadata": {},
   "source": [
    "### Regularised Cost Function using Scikit-learn"
   ]
  },
  {
   "cell_type": "code",
   "execution_count": 33,
   "metadata": {},
   "outputs": [
    {
     "name": "stdout",
     "output_type": "stream",
     "text": [
      "\n",
      "\n",
      "fitting parameters of linear regression with regaularisation\n",
      "Lambda  = 0\n",
      "theta0 = 13.09\n",
      "theta1 = 0.37\n",
      "\n",
      "\n",
      "other parameters:\n",
      "      fun: 1604.4002999186634\n",
      " hess_inv: array([[ 1.03142187,  0.00617881],\n",
      "       [ 0.00617881,  0.001215  ]])\n",
      "      jac: array([  3.42437190e-12,  -5.70371898e-10])\n",
      "  message: 'Optimization terminated successfully.'\n",
      "     nfev: 6\n",
      "      nit: 4\n",
      "     njev: 6\n",
      "   status: 0\n",
      "  success: True\n",
      "        x: array([ 13.08790351,   0.36777923])\n",
      "[ 13.08790351   0.36777923]\n",
      "\n",
      "\n",
      "fitting parameters of linear regression with sklearn.linear\n",
      "theta0 = 13.09\n",
      "theta1 = 0.37\n",
      "Cost = 1604.40\n"
     ]
    },
    {
     "data": {
      "image/png": "[encoded data removed]",
      "text/plain": [
       "<matplotlib.figure.Figure at 0x1155b33c8>"
      ]
     },
     "metadata": {},
     "output_type": "display_data"
    }
   ],
   "source": [
    "\n",
    "#fit the linear regression using minimize \n",
    "fit = trainLinearReg(X_train, y_train, 0)\n",
    "print('\\n\\nfitting parameters of linear regression with regaularisation')\n",
    "print('Lambda  = 0')\n",
    "print('theta0 = %.2f'%(fit.x[0]))\n",
    "print('theta1 = %.2f'%(fit.x[1]))\n",
    "print('\\n\\nother parameters:')\n",
    "print(fit)\n",
    "\n",
    "# fit using linear regression from sklearn\n",
    "regr = LinearRegression(fit_intercept = False)\n",
    "regr.fit(X_train,y_train.flatten())\n",
    "print(regr.coef_)\n",
    "print('\\n\\nfitting parameters of linear regression with sklearn.linear')\n",
    "print('theta0 = %.2f'%(regr.coef_[0]))\n",
    "print('theta1 = %.2f'%(regr.coef_[1]))\n",
    "print('Cost = %.2f'%(linearRegCostFunction(regr.coef_, X_train, y_train, 0)))\n",
    "\n",
    "#compere 2 methods of fitting\n",
    "plt.figure()\n",
    "plt.plot(np.linspace(-50,40), (fit.x[0]+ (fit.x[1]*np.linspace(-50,40))), label = 'Scipy optimize')\n",
    "plt.plot(np.linspace(-50,40), (regr.coef_[0]+ (regr.coef_[1]*np.linspace(-50,40))), label='Scikit-learn')\n",
    "plt.scatter(X_train[:,1], y_train, s = 50, c = 'r', marker ='x', linewidths = 1,label = 'Training data')\n",
    "plt.scatter(X_val[:,1], y_val, s = 50, c = 'b', marker = 'o', linewidths = 1,label = 'Validation data')\n",
    "plt.xlabel('Change in water level (x)')\n",
    "plt.ylabel('Water flowing out of the dam (y)')\n",
    "plt.legend(loc = 4);\n"
   ]
  },
  {
   "cell_type": "markdown",
   "metadata": {},
   "source": [
    "### Learnign Curve"
   ]
  },
  {
   "cell_type": "code",
   "execution_count": 34,
   "metadata": {},
   "outputs": [
    {
     "name": "stdout",
     "output_type": "stream",
     "text": [
      "using the linear regression Cost function:\n",
      "\ttheta_0 = 13.088\n",
      "\ttheta_1 = 0.368\n"
     ]
    },
    {
     "data": {
      "image/png": "[encoded data removed]",
      "text/plain": [
       "<matplotlib.figure.Figure at 0x1155ddba8>"
      ]
     },
     "metadata": {},
     "output_type": "display_data"
    }
   ],
   "source": [
    "def learningCurve(X, y, X_val, y_val, reg):\n",
    "    m = y.size\n",
    "    \n",
    "    error_train = np.zeros((m, 1))\n",
    "    error_val = np.zeros((m, 1))\n",
    "    \n",
    "    for i in np.arange(m):\n",
    "        res = trainLinearReg(X_train[:i + 1], y_train[:i + 1], reg)\n",
    "        error_train[i] = linearRegCostFunction(res.x, X_train[:i + 1], y[:i + 1], reg)\n",
    "        error_val[i] = linearRegCostFunction(res.x, X_val, y_val, reg)\n",
    "    \n",
    "    return(res.x,error_train, error_val)\n",
    "\n",
    "thetas, Error_train, Error_val = learningCurve(X_train, y_train, X_val, y_val, 0)\n",
    "\n",
    "print('using the linear regression Cost function:')\n",
    "print('\\ttheta_0 = %.3f'%(thetas[0]))\n",
    "print('\\ttheta_1 = %.3f'%(thetas[1]))\n",
    "plt.plot(np.arange(1,13), Error_train, label='Training error')\n",
    "plt.plot(np.arange(1,13), Error_val, label='Validation error')\n",
    "plt.title('Learning curve for linear regression')\n",
    "plt.xlabel('Number of training examples')\n",
    "plt.ylabel('Error')\n",
    "plt.legend();\n",
    "\n",
    "\n",
    "\n"
   ]
  },
  {
   "cell_type": "markdown",
   "metadata": {
    "collapsed": true
   },
   "source": [
    "### Polynomial regression (Scikit-learn)"
   ]
  },
  {
   "cell_type": "code",
   "execution_count": 39,
   "metadata": {},
   "outputs": [],
   "source": [
    "def polyFeatures(X, p):\n",
    "    \n",
    "    m = X.shape[0]\n",
    "    Xpoly = np.zeros((m, p))\n",
    "    Xpoly[:,0] = X[:,0]\n",
    "    \n",
    "    for ii in range(1,p):\n",
    "        Xpoly[:,ii] = X[:,0]**(ii+1)\n",
    "        \n",
    "    return Xpoly\n",
    "\n",
    "def featureNormalize(X):\n",
    "    \n",
    "    # compute mean and standard deviation\n",
    "    mu = np.mean(X, axis=0)\n",
    "    sigma = np.std(X, axis=0)\n",
    "    \n",
    "    X_norm = (X - mu) / sigma\n",
    "    \n",
    "    return X_norm, mu, sigma  \n",
    "\n",
    "def plotFit(min_x, max_x, mu, sigma, theta, p):\n",
    "    \n",
    "    x = np.arange(min_x-15, max_x+25, 0.05)\n",
    "    x = np.reshape(x, (len(x), 1))\n",
    "    \n",
    "    # Map X and normalize\n",
    "    X_poly = polyFeatures(x, p)\n",
    "    X_poly = (X_poly - mu) / sigma\n",
    "    X_poly = np.hstack((np.ones((X_poly.shape[0], 1)), \n",
    "                         X_poly))\n",
    "    \n",
    "    # plot\n",
    "    plt.plot(x, np.dot(X_poly,theta))\n"
   ]
  },
  {
   "cell_type": "code",
   "execution_count": null,
   "metadata": {
    "collapsed": true
   },
   "outputs": [],
   "source": [
    "\n",
    "\n",
    "p = 8\n",
    "\n",
    "# Map X onto Polynomical Features and Normalize\n",
    "X_poly = polyFeatures(X, p)\n",
    "X_poly, mu, sigma = featureNormalize(X_poly)\n",
    "X_poly = np.hstack((np.ones((m, 1)), X_poly))\n",
    "\n",
    "# Map X_poly_test and normalize\n",
    "X_poly_test = polyFeatures(Xtest, p)\n",
    "X_poly_test = (X_poly_test - mu) / sigma\n",
    "X_poly_test = np.hstack((np.ones((X_poly_test.shape[0], 1)), \n",
    "                         X_poly_test))\n",
    "\n",
    "# Map X_poly_val and normalize\n",
    "X_poly_val = polyFeatures(Xval, p)\n",
    "X_poly_val = (X_poly_val - mu) / sigma\n",
    "X_poly_val = np.hstack((np.ones((X_poly_val.shape[0], 1)), \n",
    "                         X_poly_val))\n",
    "\n"
   ]
  },
  {
   "cell_type": "code",
   "execution_count": null,
   "metadata": {
    "collapsed": true
   },
   "outputs": [],
   "source": [
    "# train model on training set\n",
    "lam = 0\n",
    "theta = trainLinearReg(X_poly, y, lam)\n",
    "\n",
    "# learning curve\n",
    "error_train, error_val = learningCurve(\n",
    "    X_poly, y, X_poly_val, yval, lam)\n",
    "\n",
    "# plot fit\n",
    "plt.figure()\n",
    "plt.plot(X, y, 'rx', mew=2)\n",
    "plotFit(np.min(X), np.max(X), mu, sigma, theta, p)\n",
    "plt.xlabel('Change in water level (x)')\n",
    "plt.ylabel('Water flowing out of the dam (y)')\n",
    "plt.title('Polynomial Regression Fit (lambda = %f)'%lam)\n",
    "\n",
    "# plot learning curve\n",
    "plt.figure()\n",
    "plt.plot(np.linspace(0, m, m), error_train, label='Train')\n",
    "plt.plot(np.linspace(0, m, m), error_val, label='Cross Validation')\n",
    "plt.xlabel('Number of training examples')\n",
    "plt.ylabel('Error')\n",
    "plt.legend()"
   ]
  },
  {
   "cell_type": "code",
   "execution_count": null,
   "metadata": {
    "collapsed": true
   },
   "outputs": [],
   "source": []
  },
  {
   "cell_type": "code",
   "execution_count": null,
   "metadata": {
    "collapsed": true
   },
   "outputs": [],
   "source": []
  },
  {
   "cell_type": "code",
   "execution_count": null,
   "metadata": {
    "collapsed": true
   },
   "outputs": [],
   "source": []
  },
  {
   "cell_type": "code",
   "execution_count": null,
   "metadata": {
    "collapsed": true
   },
   "outputs": [],
   "source": []
  }
 ],
 "metadata": {
  "kernelspec": {
   "display_name": "Python 3",
   "language": "python",
   "name": "python3"
  },
  "language_info": {
   "codemirror_mode": {
    "name": "ipython",
    "version": 3
   },
   "file_extension": ".py",
   "mimetype": "text/x-python",
   "name": "python",
   "nbconvert_exporter": "python",
   "pygments_lexer": "ipython3",
   "version": "3.6.2"
  }
 },
 "nbformat": 4,
 "nbformat_minor": 2
}
