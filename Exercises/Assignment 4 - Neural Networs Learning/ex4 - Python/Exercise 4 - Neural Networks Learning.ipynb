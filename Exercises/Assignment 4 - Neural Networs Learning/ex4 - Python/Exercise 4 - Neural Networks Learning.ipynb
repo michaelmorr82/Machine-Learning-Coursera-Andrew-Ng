{
 "cells": [
  {
   "cell_type": "markdown",
   "metadata": {},
   "source": [
    "# Exercise 4 - Neural Networks Learning"
   ]
  },
  {
   "cell_type": "code",
   "execution_count": 22,
   "metadata": {},
   "outputs": [],
   "source": [
    "%matplotlib inline\n",
    "from __future__ import division\n",
    "import numpy as np\n",
    "import matplotlib.pyplot as plt\n",
    "from mpl_toolkits.mplot3d import Axes3D\n",
    "from scipy.optimize import fmin_cg\n",
    "import scipy.io as si\n",
    "plt.rcParams['axes.formatter.limits'] = [-3,3]\n",
    "plt.rcParams['font.size'] = 12\n",
    "plt.rcParams['axes.labelsize'] = 12\n",
    "\n",
    "%matplotlib inline\n",
    "%config InlineBackend.figure_format = 'retina'"
   ]
  },
  {
   "cell_type": "markdown",
   "metadata": {},
   "source": [
    "### Load Data"
   ]
  },
  {
   "cell_type": "code",
   "execution_count": 23,
   "metadata": {
    "scrolled": true
   },
   "outputs": [
    {
     "name": "stdout",
     "output_type": "stream",
     "text": [
      "dict_keys(['__header__', '__version__', '__globals__', 'X', 'y'])\n",
      "\n",
      "X: (5000, 400) (without intercept)\n",
      "y: (5000, 10)\n",
      "\n",
      "Number of features (n): 400\n",
      "Number of training examples (nm): 5000\n",
      "\n",
      "theta1 : (25, 401)\n",
      "theta2 : (10, 26)\n",
      "params : (10285,)\n"
     ]
    }
   ],
   "source": [
    "\n",
    "\n",
    "data = loadmat('ex4data1.mat')\n",
    "print(data.keys())\n",
    "X = data['X']\n",
    "y = data['y']\n",
    "\n",
    "yy = data['y'].flatten()\n",
    "\n",
    "# replace 10 -> 0 \n",
    "# re-cast y\n",
    "y = np.zeros((len(yy), 10))\n",
    "for ii in range(y.shape[0]):\n",
    "    y[ii, yy[ii]-1] = 1\n",
    "\n",
    "    \n",
    "    \n",
    "print('\\nX:',X.shape, '(without intercept)')\n",
    "print('y:',y.shape)\n",
    "\n",
    "\n",
    "m,n = X.shape\n",
    "print('\\nNumber of features (n): %.0f'%(n))\n",
    "print('Number of training examples (nm): %.0f'%(m))\n",
    "\n",
    "weights = loadmat('ex4weights.mat')\n",
    "weights.keys()\n",
    "\n",
    "theta1, theta2 = weights['Theta1'], weights['Theta2']\n",
    "print('\\ntheta1 :', theta1.shape)\n",
    "print('theta2 :', theta2.shape)\n",
    "params = np.r_[theta1.ravel(), theta2.ravel()]\n",
    "print('params :', params.shape)\n",
    "\n"
   ]
  },
  {
   "cell_type": "markdown",
   "metadata": {},
   "source": [
    "### Display Sammples"
   ]
  },
  {
   "cell_type": "code",
   "execution_count": 20,
   "metadata": {},
   "outputs": [],
   "source": [
    "def displayData(X, nrows = 10, ncols = 10):\n",
    "    \n",
    "    # set up array\n",
    "    fig, axarr = plt.subplots(nrows = nrows, ncols = ncols,\n",
    "                              figsize = (nrows, ncols))\n",
    "    \n",
    "    # loop over randomly drawn numbers\n",
    "    for ii in range(nrows):\n",
    "        for jj in range(ncols):\n",
    "            ind = np.random.randint(X.shape[0])\n",
    "            tmp = X[ind,:].reshape(20,20, order='F')\n",
    "            axarr[ii,jj].imshow(tmp, cmap='gray_r')\n",
    "            plt.setp(axarr[ii,jj].get_xticklabels(), visible=False)\n",
    "            plt.setp(axarr[ii,jj].get_yticklabels(), visible=False)\n",
    "    \n",
    "    fig.subplots_adjust(hspace = 0, wspace = 0)"
   ]
  },
  {
   "cell_type": "code",
   "execution_count": 21,
   "metadata": {},
   "outputs": [
    {
     "ename": "ValueError",
     "evalue": "cannot reshape array of size 3990 into shape (20)",
     "output_type": "error",
     "traceback": [
      "\u001b[1;31m---------------------------------------------------------------------------\u001b[0m",
      "\u001b[1;31mValueError\u001b[0m                                Traceback (most recent call last)",
      "\u001b[1;32m<ipython-input-21-4afa74966bb3>\u001b[0m in \u001b[0;36m<module>\u001b[1;34m()\u001b[0m\n\u001b[0;32m      2\u001b[0m \u001b[1;33m\u001b[0m\u001b[0m\n\u001b[0;32m      3\u001b[0m \u001b[0msample\u001b[0m \u001b[1;33m=\u001b[0m \u001b[0mnp\u001b[0m\u001b[1;33m.\u001b[0m\u001b[0mrandom\u001b[0m\u001b[1;33m.\u001b[0m\u001b[0mrandint\u001b[0m\u001b[1;33m(\u001b[0m \u001b[1;36m0\u001b[0m\u001b[1;33m,\u001b[0m \u001b[0mX\u001b[0m\u001b[1;33m.\u001b[0m\u001b[0mshape\u001b[0m\u001b[1;33m[\u001b[0m\u001b[1;36m0\u001b[0m\u001b[1;33m]\u001b[0m\u001b[1;33m,\u001b[0m \u001b[1;36m10\u001b[0m \u001b[1;33m)\u001b[0m\u001b[1;33m\u001b[0m\u001b[0m\n\u001b[1;32m----> 4\u001b[1;33m \u001b[0mdata_plot\u001b[0m \u001b[1;33m=\u001b[0m \u001b[0mX\u001b[0m\u001b[1;33m[\u001b[0m\u001b[0msample\u001b[0m\u001b[1;33m,\u001b[0m \u001b[1;36m1\u001b[0m\u001b[1;33m:\u001b[0m \u001b[1;33m]\u001b[0m\u001b[1;33m.\u001b[0m\u001b[0mreshape\u001b[0m\u001b[1;33m(\u001b[0m \u001b[1;33m-\u001b[0m\u001b[1;36m1\u001b[0m\u001b[1;33m,\u001b[0m \u001b[1;36m20\u001b[0m \u001b[1;33m)\u001b[0m\u001b[1;33m.\u001b[0m\u001b[0mT\u001b[0m \u001b[1;31m# Make a 20X20 array and rotate\u001b[0m\u001b[1;33m\u001b[0m\u001b[0m\n\u001b[0m\u001b[0;32m      5\u001b[0m \u001b[0mprint\u001b[0m\u001b[1;33m(\u001b[0m\u001b[0mdata_plot\u001b[0m\u001b[1;33m.\u001b[0m\u001b[0mshape\u001b[0m\u001b[1;33m)\u001b[0m\u001b[1;33m\u001b[0m\u001b[0m\n\u001b[0;32m      6\u001b[0m \u001b[0mimg\u001b[0m \u001b[1;33m=\u001b[0m \u001b[0mplt\u001b[0m\u001b[1;33m.\u001b[0m\u001b[0mimshow\u001b[0m\u001b[1;33m(\u001b[0m\u001b[0mdata_plot\u001b[0m\u001b[1;33m,\u001b[0m \u001b[0mcmap\u001b[0m \u001b[1;33m=\u001b[0m \u001b[0mcm\u001b[0m\u001b[1;33m.\u001b[0m\u001b[0mGreys_r\u001b[0m\u001b[1;33m)\u001b[0m\u001b[1;33m\u001b[0m\u001b[0m\n",
      "\u001b[1;31mValueError\u001b[0m: cannot reshape array of size 3990 into shape (20)"
     ]
    }
   ],
   "source": [
    "\n",
    "\n",
    "sample = np.random.randint( 0, X.shape[0], 10 )\n",
    "data_plot = X[sample, 1: ].reshape( -1, 20 ).T # Make a 20X20 array and rotate\n",
    "print(data_plot.shape)\n",
    "img = plt.imshow(data_plot, cmap = cm.Greys_r)\n",
    "plt.axis('off');\n",
    "\n"
   ]
  },
  {
   "cell_type": "markdown",
   "metadata": {},
   "source": [
    "### Neural Networks - Feed Forward and Cost Function"
   ]
  },
  {
   "cell_type": "markdown",
   "metadata": {},
   "source": [
    "the Neural Network will have 3 layers, a hidden layers adn and ouput layer. The inputs are pixel valuesof digit images. The images are 20 x 20, this gives 400 inputs layers, 401 including the bias unit\n",
    "\n",
    "\n",
    "Input layer size = 400 (20 x 20 pixels) <br>\n",
    "Hidden layer size = 25<br>\n",
    "Number of labels or output layers = 10<br>\n",
    "\n",
    "the values of each of the activation nodes ias as follows <br>\n",
    "$$a_1^{(2)} = g(\\Theta_{10}^{(1)}x_0 + \\Theta_{11}^{(1)}x_1 + \\Theta_{12}^{(1)}x_2 + \\Theta_{13}^{(1)}x_3) \\Rightarrow a_1^{(2)} = g(z_1^{(2)})$$<br>\n",
    "$$a_2^{(2)} = g(\\Theta_{20}^{(1)}x_0 + \\Theta_{21}^{(1)}x_1 + \\Theta_{22}^{(1)}x_2 + \\Theta_{23}^{(1)}x_3) \\Rightarrow a_2^{(2)} = g(z_2^{(2)})$$<br>\n",
    "$$a_3^{(2)} = g(\\Theta_{30}^{(1)}x_0 + \\Theta_{31}^{(1)}x_1 + \\Theta_{32}^{(1)}x_2 + \\Theta_{33}^{(1)}x_3) \\Rightarrow a_3^{(2)} = g(z_3^{(2)})$$<br>\n",
    "$$h_{\\Theta}(x) = g(\\Theta_{10}^{(2)}a_0 + \\Theta_{11}^{(2)}a_1 + \\Theta_{12}^{(1)}a_2. +\\Theta_{13}^{(1)}a_3) = g(z^{(3)}) $$<br>\n",
    "\n",
    "in vectorisation mode for settings $x = a^{(i)}$ we can write \n",
    "$$z^{(j)} = \\Theta^{(j-1)}a^{(j-1)}$$\n",
    "\n",
    "Vectorised implemetations of Forward Propogation:\n",
    "$$a^{(1)} = x$$\n",
    "$$z^{(2)} = \\Theta^{(1)} a^{(1)}$$\n",
    "$$a^{2} = g(z^{(2)}).... add... a_0^{(2)} = 1)$$\n",
    "$$z^{(3)} = \\Theta^{(2)}a^{(2)}$$\n",
    "$$h_{\\Theta}(x) = a^{(3)}  = g(z^{(3)})$$\n",
    "\n",
    "\n",
    "Sigmoid gradient\n",
    "$$g′(z)=g(z)(1−g(z))$$\n",
    "\n",
    "where\n",
    "$$g(z)=\\frac{1}{1+e^{-z}}$$\n",
    "\n",
    "\n",
    "Cost Function \n",
    "$$ J(\\theta) = -\\frac{1}{m}\\sum_{i=1}^{m}\\sum_{k=1}^{K}\\big[y^{(i)}_{k} log(( h_\\theta(x^{(i)}))_k)-(1-y^{(i)}_k)log(1-h_\\theta(x^{(i)}))_k)\\big]$$\n",
    "\n",
    "Vectorised Cost Junction\n",
    "$$ $$"
   ]
  },
  {
   "cell_type": "code",
   "execution_count": 5,
   "metadata": {
    "collapsed": true
   },
   "outputs": [],
   "source": [
    "L = 400 # Input layer size = 400 (20x20 pixels)\n",
    "# Hidden layer size = 25\n",
    "# Number of labels = 10\n",
    "# Neural Networks - Feed Forward and Cost Function\n",
    "input_layer = 400\n",
    "hidden_layer = 25\n",
    "output_layer = 10 \n",
    "n_training_samples = X.shape[0]\n",
    "\n",
    "def sigmoid(z):\n",
    "    return(1 / (1 + np.exp(-z)))\n",
    "\n",
    "def sigmoidGradient(z):\n",
    "    return(sigmoid(z) * (1 - sigmoid(z)))\n",
    "\n",
    "#Neural Network Cost Function\n",
    "def nnCostFunction(nn_params, input_layer_size, hidden_layer_size, num_labels, features, classes, reg):\n",
    "    \n",
    "    theta1 = nn_params[0:(hidden_layer_size * (input_layer_size + 1))].reshape(hidden_layer_size,(input_layer_size + 1))\n",
    "    theta2 = nn_params[(hidden_layer_size * (input_layer_size + 1)):].reshape(num_labels,(hidden_layer_size + 1))\n",
    "\n",
    "    m = features.shape[0]\n",
    "    y_matrix = pd.get_dummies(classes.ravel()).as_matrix() \n",
    "    \n",
    "    # Cost\n",
    "    a1 = features # 5000x401\n",
    "        \n",
    "    z2 = theta1.dot(a1.T) # 25x401 * 401x5000 = 25x5000 \n",
    "    a2 = np.c_[np.ones((features.shape[0],1)),sigmoid(z2.T)] # 5000x26 \n",
    "    \n",
    "    z3 = theta2.dot(a2.T) # 10x26 * 26x5000 = 10x5000 \n",
    "    a3 = sigmoid(z3) # 10x5000\n",
    "    \n",
    "    J = -1 * (1/m) * np.sum((np.log(a3.T) * (y_matrix) + np.log(1 - a3).T * (1 - y_matrix))) + \\\n",
    "        (reg/(2 * m)) * (np.sum(np.square(theta1[:,1:])) + np.sum(np.square(theta2[:,1:])))\n",
    "\n",
    "    # Gradients\n",
    "    d3 = a3.T - y_matrix # 5000x10\n",
    "    d2 = theta2[:,1:].T.dot(d3.T) * sigmoidGradient(z2) # 25x10 *10x5000 * 25x5000 = 25x5000\n",
    "    \n",
    "    delta1 = d2.dot(a1) # 25x5000 * 5000x401 = 25x401\n",
    "    delta2 = d3.T.dot(a2) # 10x5000 *5000x26 = 10x26\n",
    "    \n",
    "    theta1_ = np.c_[np.ones((theta1.shape[0],1)),theta1[:,1:]]\n",
    "    theta2_ = np.c_[np.ones((theta2.shape[0],1)),theta2[:,1:]]\n",
    "    \n",
    "    theta1_grad = delta1/m + (theta1_ * reg)/m\n",
    "    theta2_grad = delta2/m + (theta2_ * reg)/m\n",
    "    \n",
    "    return(J, theta1_grad, theta2_grad)\n"
   ]
  },
  {
   "cell_type": "markdown",
   "metadata": {},
   "source": [
    "### Regularisation"
   ]
  },
  {
   "cell_type": "markdown",
   "metadata": {},
   "source": [
    "\n",
    " \n",
    "Regularized Cost Function\n",
    "$$ J(\\theta) = -\\frac{1}{m}\\sum_{i=1}^{m}\\sum_{k=1}^{K}\\bigg[y^{(i)}_{k} log(( h_\\theta(x^{(i)}))_k)+(1-y^{(i)}_k)log(1-h_\\theta(x^{(i)}))_k)\\bigg] + \\frac{\\lambda}{2m}\\bigg[\\sum_{l=1}^{L-1}\\sum_{i=1}^{s_l}\\sum_{j=1}^{s_{l+1}}(\\Theta_{j,k}^{(1)})^2(\\Theta_{j,k}^{(2)})^2\\bigg]$$\n"
   ]
  },
  {
   "cell_type": "code",
   "execution_count": 6,
   "metadata": {},
   "outputs": [
    {
     "data": {
      "text/plain": [
       "[0.19661193324148185,\n",
       " 0.23500371220159449,\n",
       " 0.25,\n",
       " 0.23500371220159449,\n",
       " 0.19661193324148185]"
      ]
     },
     "execution_count": 6,
     "metadata": {},
     "output_type": "execute_result"
    }
   ],
   "source": [
    "# Regularization parameter = 0\n",
    "Lambda = 0\n",
    "nnCostFunction(params, input_layer, 25, 10, X, y, Lambda)[0]\n",
    "\n",
    "#print('For Lambda = %.0f, \\n\\tCost  = %.2f \\n\\t Theta1_grad = %.2f \\n\\t Theta2_grad = %.2f' %(Lambda, J, theta1_grad, theta2_grad ) )\n",
    "\n",
    "\n",
    "# Regularization parameter = 1]\n",
    "Lambda = 1\n",
    "nnCostFunction(params, input_layer, 25, 10, X, y, Lambda)[0]\n",
    "\n",
    "\n",
    "[sigmoidGradient(z) for z in [-1, -0.5, 0, 0.5, 1]]\n"
   ]
  },
  {
   "cell_type": "code",
   "execution_count": null,
   "metadata": {
    "collapsed": true
   },
   "outputs": [],
   "source": []
  }
 ],
 "metadata": {
  "kernelspec": {
   "display_name": "Python 3",
   "language": "python",
   "name": "python3"
  },
  "language_info": {
   "codemirror_mode": {
    "name": "ipython",
    "version": 3
   },
   "file_extension": ".py",
   "mimetype": "text/x-python",
   "name": "python",
   "nbconvert_exporter": "python",
   "pygments_lexer": "ipython3",
   "version": "3.6.4"
  }
 },
 "nbformat": 4,
 "nbformat_minor": 2
}
