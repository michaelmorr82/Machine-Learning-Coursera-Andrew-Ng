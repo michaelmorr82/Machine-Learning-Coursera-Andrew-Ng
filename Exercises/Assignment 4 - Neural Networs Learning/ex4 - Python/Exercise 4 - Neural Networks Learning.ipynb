{
 "cells": [
  {
   "cell_type": "code",
   "execution_count": 8,
   "metadata": {
    "collapsed": true
   },
   "outputs": [],
   "source": [
    "# %load ../../../standard_import.txt\n",
    "import pandas as pd\n",
    "import numpy as np\n",
    "import matplotlib as mpl\n",
    "import matplotlib.pyplot as plt\n",
    "\n",
    "# load MATLAB files\n",
    "from scipy.io import loadmat\n",
    "\n",
    "\n",
    "import seaborn as sns"
   ]
  },
  {
   "cell_type": "markdown",
   "metadata": {},
   "source": [
    "### Load Data"
   ]
  },
  {
   "cell_type": "code",
   "execution_count": 11,
   "metadata": {
    "scrolled": true
   },
   "outputs": [
    {
     "name": "stdout",
     "output_type": "stream",
     "text": [
      "X: (5000, 401) (with intercept)\n",
      "y: (5000, 1)\n",
      "\n",
      "Number of features (n): 401\n",
      "Number of training examples (nm): 5000\n",
      "\n",
      "theta1 : (25, 401)\n",
      "theta2 : (10, 26)\n",
      "params : (10285,)\n"
     ]
    }
   ],
   "source": [
    "data = loadmat('ex4data1.mat')\n",
    "data.keys()\n",
    "\n",
    "y = data['y']\n",
    "\n",
    "# Add intercept\n",
    "X = np.c_[np.ones((data['X'].shape[0],1)), data['X']]\n",
    "\n",
    "print('X:',X.shape, '(with intercept)')\n",
    "print('y:',y.shape)\n",
    "\n",
    "\n",
    "m,n = X.shape\n",
    "print('\\nNumber of features (n): %.0f'%(n))\n",
    "print('Number of training examples (nm): %.0f'%(m))\n",
    "\n",
    "weights = loadmat('ex4weights.mat')\n",
    "weights.keys()\n",
    "\n",
    "theta1, theta2 = weights['Theta1'], weights['Theta2']\n",
    "print('\\ntheta1 :', theta1.shape)\n",
    "print('theta2 :', theta2.shape)\n",
    "params = np.r_[theta1.ravel(), theta2.ravel()]\n",
    "print('params :', params.shape)\n"
   ]
  },
  {
   "cell_type": "markdown",
   "metadata": {},
   "source": [
    "### Neural Networks - Feed Forward and Cost Function"
   ]
  },
  {
   "cell_type": "markdown",
   "metadata": {},
   "source": [
    "the Neural Network will have 3 layers, a hidden layers adn and ouput layer. The inputs are pixel valuesof digit images. The images are 20 x 20, this gives 400 inputs layers, 401 including the bias unit\n",
    "\n",
    "\n",
    "Input layer size = 400 (20 x 20 pixels) <br>\n",
    "Hidden layer size = 25<br>\n",
    "Number of labels or output layers = 10<br>\n",
    "\n",
    "the values of each of the activation nodes ias as follows <br>\n",
    "$$a_1^{(2)} = g(\\Theta_{10}^{(1)}x_0 + \\Theta_{11}^{(1)}x_1 + \\Theta_{12}^{(1)}x_2 + \\Theta_{13}^{(1)}x_3) \\Rightarrow a_1^{(2)} = g(z_1^{(2)})$$<br>\n",
    "$$a_2^{(2)} = g(\\Theta_{20}^{(1)}x_0 + \\Theta_{21}^{(1)}x_1 + \\Theta_{22}^{(1)}x_2 + \\Theta_{23}^{(1)}x_3) \\Rightarrow a_2^{(2)} = g(z_2^{(2)})$$<br>\n",
    "$$a_3^{(2)} = g(\\Theta_{30}^{(1)}x_0 + \\Theta_{31}^{(1)}x_1 + \\Theta_{32}^{(1)}x_2 + \\Theta_{33}^{(1)}x_3) \\Rightarrow a_3^{(2)} = g(z_3^{(2)})$$<br>\n",
    "$$h_{\\Theta}(x) = g(\\Theta_{10}^{(2)}a_0 + \\Theta_{11}^{(2)}a_1 + \\Theta_{12}^{(1)}a_2. +\\Theta_{13}^{(1)}a_3) = g(z^{(3)}) $$<br>\n",
    "\n",
    "in vectorisation mode for settings $x = a^{(i)}$ we can write \n",
    "$$z^{(j)} = \\Theta^{(j-1)}a^{(j-1)}$$\n",
    "\n",
    "Vectorised implemetations of Forward Propogation:\n",
    "$$a^{(1)} = x$$\n",
    "$$z^{(2)} = \\Theta^{(1)} a^{(1)}$$\n",
    "$$a^{2} = g(z^{(2)}).... add... a_0^{(2)} = 1)$$\n",
    "$$z^{(3)} = \\Theta^{(2)}a^{(2)}$$\n",
    "$$h_{\\Theta}(x) = a^{(3)}  = g(z^{(3)})$$\n",
    "\n",
    "\n",
    "Sigmoid gradient\n",
    "$$g′(z)=g(z)(1−g(z))$$\n",
    "\n",
    "where\n",
    "$$g(z)=\\frac{1}{1+e^{-z}}$$\n",
    "\n",
    "\n",
    "Cost Function \n",
    "$$ J(\\theta) = -\\frac{1}{m}\\sum_{i=1}^{m}\\sum_{k=1}^{K}\\big[y^{(i)}_{k} log(( h_\\theta(x^{(i)}))_k)-(1-y^{(i)}_k)log(1-h_\\theta(x^{(i)}))_k)\\big]$$\n",
    "\n",
    "Vectorised Cost Junction\n",
    "$$ $$"
   ]
  },
  {
   "cell_type": "code",
   "execution_count": 5,
   "metadata": {
    "collapsed": true
   },
   "outputs": [],
   "source": [
    "L = 400 # Input layer size = 400 (20x20 pixels)\n",
    "# Hidden layer size = 25\n",
    "# Number of labels = 10\n",
    "# Neural Networks - Feed Forward and Cost Function\n",
    "\n",
    "def sigmoid(z):\n",
    "    return(1 / (1 + np.exp(-z)))\n",
    "\n",
    "def sigmoidGradient(z):\n",
    "    return(sigmoid(z) * (1 - sigmoid(z)))\n",
    "\n",
    "#Neural Network Cost Function\n",
    "def nnCostFunction(nn_params, input_layer_size, hidden_layer_size, num_labels, features, classes, reg):\n",
    "    \n",
    "    theta1 = nn_params[0:(hidden_layer_size * (input_layer_size + 1))].reshape(hidden_layer_size,(input_layer_size + 1))\n",
    "    theta2 = nn_params[(hidden_layer_size * (input_layer_size + 1)):].reshape(num_labels,(hidden_layer_size + 1))\n",
    "\n",
    "    m = features.shape[0]\n",
    "    y_matrix = pd.get_dummies(classes.ravel()).as_matrix() \n",
    "    \n",
    "    # Cost\n",
    "    a1 = features # 5000x401\n",
    "        \n",
    "    z2 = theta1.dot(a1.T) # 25x401 * 401x5000 = 25x5000 \n",
    "    a2 = np.c_[np.ones((features.shape[0],1)),sigmoid(z2.T)] # 5000x26 \n",
    "    \n",
    "    z3 = theta2.dot(a2.T) # 10x26 * 26x5000 = 10x5000 \n",
    "    a3 = sigmoid(z3) # 10x5000\n",
    "    \n",
    "    J = -1 * (1/m) * np.sum((np.log(a3.T) * (y_matrix) + np.log(1 - a3).T * (1 - y_matrix))) + \\\n",
    "        (reg/(2 * m)) * (np.sum(np.square(theta1[:,1:])) + np.sum(np.square(theta2[:,1:])))\n",
    "\n",
    "    # Gradients\n",
    "    d3 = a3.T - y_matrix # 5000x10\n",
    "    d2 = theta2[:,1:].T.dot(d3.T) * sigmoidGradient(z2) # 25x10 *10x5000 * 25x5000 = 25x5000\n",
    "    \n",
    "    delta1 = d2.dot(a1) # 25x5000 * 5000x401 = 25x401\n",
    "    delta2 = d3.T.dot(a2) # 10x5000 *5000x26 = 10x26\n",
    "    \n",
    "    theta1_ = np.c_[np.ones((theta1.shape[0],1)),theta1[:,1:]]\n",
    "    theta2_ = np.c_[np.ones((theta2.shape[0],1)),theta2[:,1:]]\n",
    "    \n",
    "    theta1_grad = delta1/m + (theta1_ * reg)/m\n",
    "    theta2_grad = delta2/m + (theta2_ * reg)/m\n",
    "    \n",
    "    return(J, theta1_grad, theta2_grad)\n"
   ]
  },
  {
   "cell_type": "markdown",
   "metadata": {},
   "source": [
    "### Regularisation"
   ]
  },
  {
   "cell_type": "markdown",
   "metadata": {},
   "source": [
    "\n",
    " \n",
    "Regularized Cost Function\n",
    "$$ J(\\theta) = -\\frac{1}{m}\\sum_{i=1}^{m}\\sum_{k=1}^{K}\\bigg[y^{(i)}_{k} log(( h_\\theta(x^{(i)}))_k)+(1-y^{(i)}_k)log(1-h_\\theta(x^{(i)}))_k)\\bigg] + \\frac{\\lambda}{2m}\\bigg[\\sum_{l=1}^{L-1}\\sum_{i=1}^{s_l}\\sum_{j=1}^{s_{l+1}}(\\Theta_{j,k}^{(1)})^2(\\Theta_{j,k}^{(2)})^2\\bigg]$$\n"
   ]
  },
  {
   "cell_type": "code",
   "execution_count": 6,
   "metadata": {},
   "outputs": [
    {
     "data": {
      "text/plain": [
       "[0.19661193324148185,\n",
       " 0.23500371220159449,\n",
       " 0.25,\n",
       " 0.23500371220159449,\n",
       " 0.19661193324148185]"
      ]
     },
     "execution_count": 6,
     "metadata": {},
     "output_type": "execute_result"
    }
   ],
   "source": [
    "# Regularization parameter = 0\n",
    "Lambda = 0\n",
    "nnCostFunction(params, 400, 25, 10, X, y, Lambda)[0]\n",
    "\n",
    "#print('For Lambda = %.0f, \\n\\tCost  = %.2f \\n\\t Theta1_grad = %.2f \\n\\t Theta2_grad = %.2f' %(Lambda, J, theta1_grad, theta2_grad ) )\n",
    "\n",
    "\n",
    "# Regularization parameter = 1]\n",
    "Lambda = 1\n",
    "nnCostFunction(params, 400, 25, 10, X, y, Lambda)[0]\n",
    "\n",
    "\n",
    "[sigmoidGradient(z) for z in [-1, -0.5, 0, 0.5, 1]]\n"
   ]
  },
  {
   "cell_type": "code",
   "execution_count": null,
   "metadata": {
    "collapsed": true
   },
   "outputs": [],
   "source": []
  }
 ],
 "metadata": {
  "kernelspec": {
   "display_name": "Python 3",
   "language": "python",
   "name": "python3"
  },
  "language_info": {
   "codemirror_mode": {
    "name": "ipython",
    "version": 3
   },
   "file_extension": ".py",
   "mimetype": "text/x-python",
   "name": "python",
   "nbconvert_exporter": "python",
   "pygments_lexer": "ipython3",
   "version": "3.6.2"
  }
 },
 "nbformat": 4,
 "nbformat_minor": 2
}
