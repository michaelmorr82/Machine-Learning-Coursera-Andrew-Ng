{
 "cells": [
  {
   "cell_type": "code",
   "execution_count": null,
   "metadata": {},
   "outputs": [],
   "source": [
    "%matplotlib inline\n",
    "import numpy as np\n",
    "import matplotlib.pyplot as plt\n",
    "import pandas as pd\n",
    "import scipy.io #Used to load the OCTAVE *.mat files\n",
    "import scipy.misc #Used to show matrix as an image\n",
    "import matplotlib.cm as cm #Used to display images in a specific colormap\n",
    "import random #To pick random images to display\n",
    "import scipy.optimize #fmin_cg to train neural network\n",
    "import itertools\n",
    "from scipy.special import expit #Vectorized sigmoid function\n",
    "\n",
    "%matplotlib inline\n",
    "import seaborn as sns\n",
    "\n",
    "\n",
    "# %load ../../standard_import.txt\n",
    "import pandas as pd\n",
    "import numpy as np\n",
    "import matplotlib as mpl\n",
    "import matplotlib.pyplot as plt\n",
    "\n",
    "\n",
    "# load MATLAB files\n",
    "from scipy.io import loadmat\n",
    "\n",
    "%matplotlib inline\n",
    "\n",
    "\n",
    "\n",
    "\n",
    "data = loadmat('ex4data1.mat')\n",
    "print(data.keys())\n",
    "\n",
    "y = data['y']\n",
    "\n",
    "# Add intercept\n",
    "X = np.c_[np.ones((data['X'].shape[0],1)), data['X']]\n",
    "\n",
    "print('\\nX:',X.shape, '(with intercept)')\n",
    "print('y:',y.shape)\n",
    "\n",
    "\n",
    "m,n = X.shape\n",
    "print('\\nNumber of features (n): %.0f'%(n))\n",
    "print('Number of training examples (nm): %.0f'%(m))\n",
    "\n",
    "weights = loadmat('ex4weights.mat')\n",
    "weights.keys()\n",
    "\n",
    "theta1, theta2 = weights['Theta1'], weights['Theta2']\n",
    "print('\\ntheta1 :', theta1.shape)\n",
    "print('theta2 :', theta2.shape)\n",
    "params = np.r_[theta1.ravel(), theta2.ravel()]\n",
    "print('params :', params.shape)"
   ]
  }
 ],
 "metadata": {
  "kernelspec": {
   "display_name": "Python 3",
   "language": "python",
   "name": "python3"
  },
  "language_info": {
   "codemirror_mode": {
    "name": "ipython",
    "version": 3
   },
   "file_extension": ".py",
   "mimetype": "text/x-python",
   "name": "python",
   "nbconvert_exporter": "python",
   "pygments_lexer": "ipython3",
   "version": "3.6.4"
  }
 },
 "nbformat": 4,
 "nbformat_minor": 2
}
