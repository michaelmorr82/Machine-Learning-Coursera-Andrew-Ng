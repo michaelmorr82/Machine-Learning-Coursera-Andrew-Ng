{
 "cells": [
  {
   "cell_type": "markdown",
   "metadata": {},
   "source": [
    "# Exercise 1 - Linear Regression - Multi Variable "
   ]
  },
  {
   "cell_type": "code",
   "execution_count": 2,
   "metadata": {},
   "outputs": [],
   "source": [
    "# %load ../../standard_import.txt\n",
    "import pandas as pd # for data structuring and data analysis tools\n",
    "import numpy as np # arrays, algebra\n",
    "import matplotlib.pyplot as plt #2-d plotting\n",
    "import sympy\n",
    "\n",
    "from mpl_toolkits.mplot3d import axes3d # 3 d plots\n",
    "\n",
    "import seaborn as sns # statistical data visualisation\n",
    "\n",
    "sns.set_context('notebook')\n",
    "sns.set_style('white')\n",
    "\n",
    "from sympy.abc import theta\n",
    "\n",
    "plt.close(\"all\") # Clsoe all plots\n"
   ]
  },
  {
   "cell_type": "markdown",
   "metadata": {},
   "source": [
    "### Loading Data"
   ]
  },
  {
   "cell_type": "code",
   "execution_count": 3,
   "metadata": {},
   "outputs": [
    {
     "name": "stdout",
     "output_type": "stream",
     "text": [
      "First 10 examples from the dataset:\n",
      "[[2.10400e+03 3.00000e+00 3.99900e+05]\n",
      " [1.60000e+03 3.00000e+00 3.29900e+05]\n",
      " [2.40000e+03 3.00000e+00 3.69000e+05]\n",
      " [1.41600e+03 2.00000e+00 2.32000e+05]\n",
      " [3.00000e+03 4.00000e+00 5.39900e+05]\n",
      " [1.98500e+03 4.00000e+00 2.99900e+05]\n",
      " [1.53400e+03 3.00000e+00 3.14900e+05]\n",
      " [1.42700e+03 3.00000e+00 1.98999e+05]\n",
      " [1.38000e+03 3.00000e+00 2.12000e+05]\n",
      " [1.49400e+03 3.00000e+00 2.42500e+05]]\n"
     ]
    }
   ],
   "source": [
    "data = np.loadtxt('ex1data2.txt', delimiter=',')\n",
    "X = data[:, :2]\n",
    "y = data[:, 2]\n",
    "m = y.T.size\n",
    "\n",
    "# Print out some data points\n",
    "print('First 10 examples from the dataset:')\n",
    "print(np.column_stack( (X[:10], y[:10]) ))\n"
   ]
  },
  {
   "cell_type": "markdown",
   "metadata": {},
   "source": [
    "#### Feature Normalisation"
   ]
  },
  {
   "cell_type": "code",
   "execution_count": 4,
   "metadata": {},
   "outputs": [
    {
     "name": "stdout",
     "output_type": "stream",
     "text": [
      "Normalisaation Parameters:\n",
      "\tmu: 2000.68\n",
      "\tsigma: 786.20\n"
     ]
    }
   ],
   "source": [
    "# Function to normalise features\n",
    "def featureNormalize(X):\n",
    "    \n",
    "    mu = np.mean(X[:, :1])\n",
    "    sigma = np.std(X[:, :1])\n",
    "\n",
    "    mu1 = np.mean(X[:, 1:])\n",
    "    sigma1 = np.std(X[:, 1:])\n",
    "\n",
    "    x_ = (X[:, :1] - mu) / sigma\n",
    "    x1_ = (X[:, 1:] - mu1) / sigma1\n",
    "\n",
    "    X_norm = np.append(x_, x1_, axis = 1)\n",
    "    return X_norm, mu, sigma\n",
    "    \n",
    "X_norm, mu, sigma = featureNormalize(X)\n",
    "\n",
    "print('Normalisaation Parameters:')\n",
    "print('\\tmu: %.2f'%(mu))\n",
    "print('\\tsigma: %.2f'%(sigma))\n",
    "\n",
    "# Add intercept term to X\n",
    "X_norm = np.concatenate((np.ones((m, 1)), X), axis = 1)\n",
    "\n",
    "n = len(X_norm[0])"
   ]
  },
  {
   "cell_type": "markdown",
   "metadata": {},
   "source": [
    "#### Gradient descent "
   ]
  },
  {
   "cell_type": "code",
   "execution_count": 7,
   "metadata": {},
   "outputs": [
    {
     "name": "stdout",
     "output_type": "stream",
     "text": [
      "-----------------------------------\n",
      "\tFITING RESULTS GRADIENT DESCENT\n",
      "-----------------------------------\n",
      "\n",
      "Fitting: Gradient Descent\n",
      "Learning rate (alpha): 0.00\n",
      "Number of iterations: 500\n",
      "Fitting parameters:\n",
      "\tθ_0: 0.069\n",
      "\tθ_1: 149.061\n",
      "\tθ_2: 0.224\n",
      "Goodness of fit r^2: 0.606\n"
     ]
    },
    {
     "data": {
      "image/png": "[encoded data removed]",
      "text/plain": [
       "<matplotlib.figure.Figure at 0x1c708b2b940>"
      ]
     },
     "metadata": {},
     "output_type": "display_data"
    }
   ],
   "source": [
    "\n",
    "def computeCostMulti(X, y, theta_gd):\n",
    "    m = y.size\n",
    "    J = 0\n",
    "\n",
    "    h = np.dot(X, theta_gd)\n",
    "    J = 1 / (2 * m) * np.sum(np.square(h - y))\n",
    "    \n",
    "    return J\n",
    "\n",
    "def gradientDescentMulti(X, y, theta_gd, alpha, num_iters):\n",
    "\n",
    "    # Initialize some useful values\n",
    "    J_history = []\n",
    "    m = y.size  # number of training examples\n",
    "\n",
    "    for i in range(num_iters):\n",
    "\n",
    "        h = np.dot(X_norm, theta_gd) # calculate hypothesis\n",
    "        theta_gd = theta_gd - ((alpha / m) * (np.dot(X.T, (h - y))))\n",
    "        \n",
    "        # Save the cost J in every iteration\n",
    "        J_history.append(computeCostMulti(X, y, theta_gd))\n",
    "        \n",
    "\n",
    "    return theta_gd, J_history\n",
    "\n",
    "# Gradient descent parameters\n",
    "alpha = 0.000000001\n",
    "num_iters = 500\n",
    "\n",
    "# Init Theta and Run Gradient Descent \n",
    "theta_gd = np.zeros(n)\n",
    "theta_gd, J_history = gradientDescentMulti(X_norm, y, theta_gd, alpha, num_iters)\n",
    "\n",
    "#detertine the y values according to the theta values from gradient descent\n",
    "y_gd = X_norm.dot(theta_gd) \n",
    "#determine the r^2 value\n",
    "from sklearn.metrics import r2_score \n",
    "r2_gd = r2_score(y, y_gd) \n",
    "\n",
    "# Plot the convergence graph\n",
    "plt.figure()\n",
    "plt.plot(J_history, '-b')\n",
    "plt.xlabel('Number of iterations')\n",
    "plt.ylabel('Cost J')\n",
    "\n",
    "print('-----------------------------------')\n",
    "print('\\tFITING RESULTS GRADIENT DESCENT')\n",
    "print('-----------------------------------')\n",
    "print('\\nFitting: Gradient Descent')\n",
    "print('Learning rate (alpha): %.2f'%(alpha))\n",
    "print('Number of iterations: %.0f'%(num_iters))\n",
    "print('Fitting parameters:')\n",
    "print('\\t%s_0: %.3f'%(sympy.pretty(theta), theta_gd[0]))\n",
    "print('\\t%s_1: %.3f'%(sympy.pretty(theta), theta_gd[1]))\n",
    "print('\\t%s_2: %.3f'%(sympy.pretty(theta), theta_gd[2]))\n",
    "print('Goodness of fit r^2: %.3f'%(r2_gd))\n"
   ]
  },
  {
   "cell_type": "code",
   "execution_count": null,
   "metadata": {},
   "outputs": [],
   "source": []
  }
 ],
 "metadata": {
  "kernelspec": {
   "display_name": "Python 3",
   "language": "python",
   "name": "python3"
  },
  "language_info": {
   "codemirror_mode": {
    "name": "ipython",
    "version": 3
   },
   "file_extension": ".py",
   "mimetype": "text/x-python",
   "name": "python",
   "nbconvert_exporter": "python",
   "pygments_lexer": "ipython3",
   "version": "3.6.4"
  }
 },
 "nbformat": 4,
 "nbformat_minor": 2
}
